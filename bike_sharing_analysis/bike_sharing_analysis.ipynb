{
 "cells": [
  {
   "cell_type": "code",
   "execution_count": 4,
   "id": "6b3e821a-b51c-4d42-8cff-8fa30db21691",
   "metadata": {},
   "outputs": [
    {
     "ename": "ModuleNotFoundError",
     "evalue": "No module named 'matplotlib'",
     "output_type": "error",
     "traceback": [
      "\u001b[31m---------------------------------------------------------------------------\u001b[39m",
      "\u001b[31mModuleNotFoundError\u001b[39m                       Traceback (most recent call last)",
      "\u001b[36mCell\u001b[39m\u001b[36m \u001b[39m\u001b[32mIn[4]\u001b[39m\u001b[32m, line 1\u001b[39m\n\u001b[32m----> \u001b[39m\u001b[32m1\u001b[39m \u001b[38;5;28;01mimport\u001b[39;00m\u001b[38;5;250m \u001b[39m\u001b[34;01mmatplotlib\u001b[39;00m\u001b[34;01m.\u001b[39;00m\u001b[34;01mpyplot\u001b[39;00m\u001b[38;5;250m \u001b[39m\u001b[38;5;28;01mas\u001b[39;00m\u001b[38;5;250m \u001b[39m\u001b[34;01mplt\u001b[39;00m \u001b[38;5;66;03m# Ensure matplotlib is imported for plotting\u001b[39;00m\n\u001b[32m      3\u001b[39m \u001b[38;5;66;03m# Group by 'lat_origin' and 'lon_origin' to identify unique starting locations\u001b[39;00m\n\u001b[32m      4\u001b[39m \u001b[38;5;66;03m# Then count the occurrences of each unique location and get the top 10\u001b[39;00m\n\u001b[32m      5\u001b[39m top_locations = df.groupby([\u001b[33m'\u001b[39m\u001b[33mstart_station\u001b[39m\u001b[33m'\u001b[39m]).size().nlargest(\u001b[32m10\u001b[39m)\n",
      "\u001b[31mModuleNotFoundError\u001b[39m: No module named 'matplotlib'"
     ]
    }
   ],
   "source": [
    "import matplotlib.pyplot as plt # Ensure matplotlib is imported for plotting\n",
    "\n",
    "# Group by 'lat_origin' and 'lon_origin' to identify unique starting locations\n",
    "# Then count the occurrences of each unique location and get the top 10\n",
    "top_locations = df.groupby(['start_station']).size().nlargest(10)\n",
    "\n",
    "# Plotting the top 10 starting locations\n",
    "top_locations.plot(kind='barh', figsize=(10, 6), title=\"Top 10 Starting Locations by Trip Count\", color='teal')\n",
    "plt.xlabel(\"Trip Count\")\n",
    "plt.ylabel(\"Starting Latitude, Longitude\") # Updated label to reflect what's being plotted\n",
    "plt.gca().invert_yaxis() # Puts the highest value at the top of the bar chart\n",
    "plt.tight_layout() # Adjusts plot to prevent labels from overlapping\n",
    "plt.show()"
   ]
  },
  {
   "cell_type": "code",
   "execution_count": null,
   "id": "3aecf7d6-951d-437a-9f69-0e65d80aa557",
   "metadata": {},
   "outputs": [],
   "source": []
  }
 ],
 "metadata": {
  "kernelspec": {
   "display_name": "Python 3 (ipykernel)",
   "language": "python",
   "name": "python3"
  },
  "language_info": {
   "codemirror_mode": {
    "name": "ipython",
    "version": 3
   },
   "file_extension": ".py",
   "mimetype": "text/x-python",
   "name": "python",
   "nbconvert_exporter": "python",
   "pygments_lexer": "ipython3",
   "version": "3.13.5"
  }
 },
 "nbformat": 4,
 "nbformat_minor": 5
}
